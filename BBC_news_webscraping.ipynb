{
 "cells": [
  {
   "cell_type": "code",
   "execution_count": 3,
   "id": "33a0d91a",
   "metadata": {},
   "outputs": [],
   "source": [
    "import requests\n",
    "from bs4 import BeautifulSoup\n",
    "import pandas as pd"
   ]
  },
  {
   "cell_type": "code",
   "execution_count": 4,
   "id": "b759a012",
   "metadata": {},
   "outputs": [],
   "source": [
    "base_url = 'https://www.bbc.com/news/world'"
   ]
  },
  {
   "cell_type": "code",
   "execution_count": 5,
   "id": "dbb38acc",
   "metadata": {},
   "outputs": [
    {
     "name": "stdout",
     "output_type": "stream",
     "text": [
      "Page 1: Found 23 headlines, 30 categories, 21 dates.\n",
      "Page 2: Found 23 headlines, 30 categories, 21 dates.\n",
      "Page 3: Found 23 headlines, 30 categories, 21 dates.\n",
      "Page 4: Found 23 headlines, 30 categories, 21 dates.\n",
      "Page 5: Found 23 headlines, 30 categories, 21 dates.\n",
      "Page 6: Found 23 headlines, 30 categories, 21 dates.\n",
      "Page 7: Found 23 headlines, 30 categories, 21 dates.\n",
      "Page 8: Found 23 headlines, 30 categories, 21 dates.\n",
      "Page 9: Found 23 headlines, 30 categories, 21 dates.\n",
      "Page 10: Found 23 headlines, 30 categories, 21 dates.\n",
      "Page 11: Found 23 headlines, 30 categories, 21 dates.\n",
      "Page 12: Found 23 headlines, 30 categories, 21 dates.\n",
      "Page 13: Found 23 headlines, 30 categories, 21 dates.\n",
      "Page 14: Found 23 headlines, 30 categories, 21 dates.\n",
      "Page 15: Found 23 headlines, 30 categories, 21 dates.\n",
      "Page 16: Found 23 headlines, 30 categories, 21 dates.\n",
      "Page 17: Found 23 headlines, 30 categories, 21 dates.\n",
      "Page 18: Found 23 headlines, 30 categories, 21 dates.\n",
      "Page 19: Found 23 headlines, 30 categories, 21 dates.\n",
      "Page 20: Found 23 headlines, 30 categories, 21 dates.\n",
      "Page 21: Found 23 headlines, 30 categories, 21 dates.\n",
      "Page 22: Found 23 headlines, 30 categories, 21 dates.\n",
      "Page 23: Found 23 headlines, 30 categories, 21 dates.\n",
      "Page 24: Found 23 headlines, 30 categories, 21 dates.\n",
      "Page 25: Found 23 headlines, 30 categories, 21 dates.\n",
      "Page 26: Found 23 headlines, 30 categories, 21 dates.\n",
      "Page 27: Found 23 headlines, 30 categories, 21 dates.\n",
      "Page 28: Found 23 headlines, 30 categories, 21 dates.\n",
      "Page 29: Found 23 headlines, 30 categories, 21 dates.\n",
      "Page 30: Found 23 headlines, 30 categories, 21 dates.\n",
      "Page 31: Found 23 headlines, 30 categories, 21 dates.\n",
      "Page 32: Found 23 headlines, 30 categories, 21 dates.\n",
      "Page 33: Found 23 headlines, 30 categories, 21 dates.\n",
      "Page 34: Found 23 headlines, 30 categories, 21 dates.\n",
      "Page 35: Found 23 headlines, 30 categories, 21 dates.\n",
      "Page 36: Found 23 headlines, 30 categories, 21 dates.\n",
      "Page 37: Found 23 headlines, 30 categories, 21 dates.\n",
      "Page 38: Found 23 headlines, 30 categories, 21 dates.\n",
      "Page 39: Found 23 headlines, 30 categories, 21 dates.\n",
      "Page 40: Found 23 headlines, 30 categories, 21 dates.\n",
      "Page 41: Found 23 headlines, 30 categories, 21 dates.\n",
      "Page 42: Found 23 headlines, 30 categories, 21 dates.\n",
      "Failed to fetch page 43. Status code: 404\n"
     ]
    }
   ],
   "source": [
    "headline_list = []\n",
    "category_list = []\n",
    "date_list = []\n",
    "\n",
    "page_number = 1\n",
    "while True:\n",
    "    url = f\"{base_url}?page={page_number}\"\n",
    "    response = requests.get(url)\n",
    "    \n",
    "    if response.status_code != 200:\n",
    "        print(f\"Failed to fetch page {page_number}. Status code: {response.status_code}\")\n",
    "        break \n",
    "\n",
    "    soup = BeautifulSoup(response.content, 'html.parser')\n",
    "\n",
    "    headlines = soup.find_all(class_='sc-1207bea1-3 fxdkXN')  \n",
    "    categories = soup.find_all(class_='sc-4e537b1-2 eRsxHt')  \n",
    "    dates = soup.find_all(class_='sc-4e537b1-1 dsUUMv')\n",
    "    print(f\"Page {page_number}: Found {len(headlines)} headlines, {len(categories)} categories, {len(dates)} dates.\")\n",
    "\n",
    "    if not headlines:\n",
    "        break\n",
    "\n",
    "    for i in range(len(headlines)):\n",
    "        headline_list.append(headlines[i].get_text(strip=True))\n",
    "        \n",
    "        if i < len(categories):\n",
    "            category_list.append(categories[i].get_text(strip=True))\n",
    "        else:\n",
    "            category_list.append('N/A')\n",
    "        \n",
    "        if i < len(dates):\n",
    "            date_list.append(dates[i].get_text(strip=True))\n",
    "        else:\n",
    "            date_list.append('NA')\n",
    "\n",
    "    page_number += 1"
   ]
  },
  {
   "cell_type": "code",
   "execution_count": 6,
   "id": "af040319",
   "metadata": {},
   "outputs": [],
   "source": [
    "news_df = pd.DataFrame({\n",
    "    'Headline': headline_list,\n",
    "    'Category': category_list,\n",
    "    'Date/Time': date_list\n",
    "})"
   ]
  },
  {
   "cell_type": "code",
   "execution_count": 7,
   "id": "d38773cb",
   "metadata": {},
   "outputs": [],
   "source": [
    "news_df['Date/Time'] = news_df['Date/Time'].replace('', 'NA')"
   ]
  },
  {
   "cell_type": "code",
   "execution_count": 8,
   "id": "fb8508d6",
   "metadata": {},
   "outputs": [
    {
     "name": "stdout",
     "output_type": "stream",
     "text": [
      "Data scraped and saved to 'BBC_news_webscraping.csv'. Total rows inserted: 966\n"
     ]
    }
   ],
   "source": [
    "news_df.to_csv('BBC_news_webscraping.csv', index=False)\n",
    "print(f\"Data scraped and saved to 'BBC_news_webscraping.csv'. Total rows inserted: {len(news_df)}\")"
   ]
  },
  {
   "cell_type": "code",
   "execution_count": null,
   "id": "7d260aad",
   "metadata": {},
   "outputs": [],
   "source": []
  }
 ],
 "metadata": {
  "kernelspec": {
   "display_name": "Python 3 (ipykernel)",
   "language": "python",
   "name": "python3"
  },
  "language_info": {
   "codemirror_mode": {
    "name": "ipython",
    "version": 3
   },
   "file_extension": ".py",
   "mimetype": "text/x-python",
   "name": "python",
   "nbconvert_exporter": "python",
   "pygments_lexer": "ipython3",
   "version": "3.11.5"
  }
 },
 "nbformat": 4,
 "nbformat_minor": 5
}
